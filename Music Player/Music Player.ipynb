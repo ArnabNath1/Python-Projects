{
 "cells": [
  {
   "cell_type": "code",
   "execution_count": 1,
   "id": "a153a5c7",
   "metadata": {},
   "outputs": [
    {
     "name": "stdout",
     "output_type": "stream",
     "text": [
      "Requirement already satisfied: pygame in c:\\users\\arnab\\appdata\\roaming\\python\\python39\\site-packages (2.1.2)\n"
     ]
    }
   ],
   "source": [
    "!pip install pygame"
   ]
  },
  {
   "cell_type": "code",
   "execution_count": 2,
   "id": "b2963f03",
   "metadata": {},
   "outputs": [
    {
     "name": "stdout",
     "output_type": "stream",
     "text": [
      "pygame 2.1.2 (SDL 2.0.18, Python 3.9.13)\n",
      "Hello from the pygame community. https://www.pygame.org/contribute.html\n"
     ]
    }
   ],
   "source": [
    "from pygame import mixer\n",
    "mixer.init()\n",
    "mixer.music.load('SangatsuNoLion-OP1.mp3')\n",
    "mixer.music.play()"
   ]
  },
  {
   "cell_type": "code",
   "execution_count": 3,
   "id": "b9923a3f",
   "metadata": {},
   "outputs": [],
   "source": [
    "mixer.music.stop()"
   ]
  },
  {
   "cell_type": "markdown",
   "id": "3c4872be",
   "metadata": {},
   "source": [
    "# Music Player"
   ]
  },
  {
   "cell_type": "code",
   "execution_count": 6,
   "id": "b137d483",
   "metadata": {},
   "outputs": [],
   "source": [
    "from tkinter import *\n",
    "from tkinter import filedialog\n",
    "from pygame import mixer\n",
    "\n",
    "class Player:\n",
    "    def __init__(self,window):\n",
    "        window .geometry('320x100');window.title('Anime Music Player');window.resizable(0,0)\n",
    "        Load=Button(window,text='Load',width=10,font=('Times',10),command=self.load)\n",
    "        Play=Button(window,text='Play',width=10,font=('Times',10),command=self.play)\n",
    "        Pause=Button(window,text='Pause',width=10,font=('Times',10),command=self.pause)\n",
    "        Stop=Button(window,text='Stop',width=10,font=('Times',10),command=self.stop)\n",
    "        Load.place(x=0,y=20);Play.place(x=110,y=20);Pause.place(x=220,y=20);Stop.place(x=110,y=60)\n",
    "        self.music_file=False\n",
    "        self.playing_state=False\n",
    "    def load(self):\n",
    "        self.music_file=filedialog.askopenfilename()\n",
    "    def play(self):\n",
    "        if self.music_file:\n",
    "            mixer.init()\n",
    "            mixer.music.load(self.music_file)\n",
    "            mixer.music.play()\n",
    "    def pause(self):\n",
    "        if not self.playing_state:\n",
    "            mixer.music.pause()\n",
    "            self.playing_state=True\n",
    "        else:\n",
    "            mixer.music.unpause()\n",
    "            self.playing_state=False\n",
    "    def stop(self):\n",
    "        mixer.music.stop()\n",
    "\n",
    "new_root=Tk()\n",
    "player_app=Player(new_root)\n",
    "new_root.mainloop()"
   ]
  },
  {
   "cell_type": "code",
   "execution_count": null,
   "id": "704eb351",
   "metadata": {},
   "outputs": [],
   "source": []
  }
 ],
 "metadata": {
  "kernelspec": {
   "display_name": "Python 3 (ipykernel)",
   "language": "python",
   "name": "python3"
  },
  "language_info": {
   "codemirror_mode": {
    "name": "ipython",
    "version": 3
   },
   "file_extension": ".py",
   "mimetype": "text/x-python",
   "name": "python",
   "nbconvert_exporter": "python",
   "pygments_lexer": "ipython3",
   "version": "3.9.13"
  }
 },
 "nbformat": 4,
 "nbformat_minor": 5
}
